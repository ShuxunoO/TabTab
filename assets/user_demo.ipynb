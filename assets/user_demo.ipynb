{
 "cells": [
  {
   "cell_type": "markdown",
   "metadata": {},
   "source": [
    "### 同步调用"
   ]
  },
  {
   "cell_type": "code",
   "execution_count": 9,
   "metadata": {},
   "outputs": [
    {
     "name": "stdout",
     "output_type": "stream",
     "text": [
      "```json\n",
      "{\n",
      "  \"answer1\": \"我是阿里云自主研发的大规模语言模型Qwen，能够回答问题、创作文字和提供文本摘要。\",\n",
      "  \"answer2\": \"我是一种预训练的语言模型，通过大规模的标注数据学习并理解自然语言。\",\n",
      "  \"answer3\": \"我叫通义千问，是由阿里云团队开发的AI助手。\"\n",
      "}\n",
      "```\n"
     ]
    }
   ],
   "source": [
    "from ollama import Client\n",
    "client = Client(\n",
    ")\n",
    "response = client.chat(model='qwen2.5:0.5b', messages=[\n",
    "  {\n",
    "    'role': 'user',\n",
    "    'content': '介绍一下你自己，少于20字，要求回复3种答案，使用json格式返回',\n",
    "  },\n",
    "])\n",
    "\n",
    "print(response.get(\"message\")[\"content\"])"
   ]
  },
  {
   "cell_type": "markdown",
   "metadata": {},
   "source": [
    "### 异步调用"
   ]
  },
  {
   "cell_type": "code",
   "execution_count": 2,
   "metadata": {},
   "outputs": [
    {
     "name": "stdout",
     "output_type": "stream",
     "text": [
      "The sky appears blue to us because of a phenomenon called Rayleigh scattering, named after the British physicist Lord Rayleigh. Here's what happens:\n",
      "\n",
      "1. **Sunlight enters Earth's atmosphere**: When sunlight enters our atmosphere, it encounters tiny molecules of gases such as nitrogen (N2) and oxygen (O2).\n",
      "2. **Scattering occurs**: These gas molecules scatter the light in all directions, but they scatter shorter (blue) wavelengths more than longer (red) wavelengths.\n",
      "3. **Blue light is scattered in all directions**: As a result, the blue light is distributed throughout the atmosphere, giving the sky its blue appearance.\n",
      "\n",
      "Here are some interesting facts to help you understand this phenomenon better:\n",
      "\n",
      "* The scattering effect is more pronounced for shorter wavelengths like blue and violet, which is why the sky typically appears blue during the daytime.\n",
      "* At sunrise and sunset, the sky can take on hues of red, orange, and pink because the light has to travel through more of the atmosphere to reach our eyes, scattering off particles in a way that favors longer wavelengths (reds and oranges).\n",
      "* On a cloudy day, the scattered light is dispersed by the cloud droplets, making the sky appear white.\n",
      "* At night, when there's no sunlight, the sky appears dark because there are no shorter wavelengths being scattered.\n",
      "\n",
      "There you have it! The sky is blue because of the scattering of sunlight by tiny molecules in our atmosphere.\n"
     ]
    }
   ],
   "source": [
    "import asyncio\n",
    "from ollama import AsyncClient\n",
    "\n",
    "async def chat():\n",
    "    # 创建异步客户端实例\n",
    "    client = AsyncClient(\n",
    "        host='http://localhost:11434',\n",
    "        headers={'x-some-header': 'some-value'}\n",
    "    )\n",
    "    \n",
    "    # 发送异步请求并获取响应\n",
    "    response = await client.chat(model='llama3.2-vision', messages=[\n",
    "        {\n",
    "            'role': 'user',\n",
    "            'content': 'Why is the sky blue?',\n",
    "        },\n",
    "    ])\n",
    "    \n",
    "    # 输出 response 中的 content\n",
    "    print(response.get(\"message\")[\"content\"])\n",
    "\n",
    "\n",
    "# 在 Jupyter Notebook 中直接运行\n",
    "await chat()\n",
    "\n",
    "# # 运行异步函数\n",
    "# if __name__ == \"__main__\":\n",
    "#     asyncio.run(main())"
   ]
  },
  {
   "cell_type": "markdown",
   "metadata": {},
   "source": [
    "### 流式响应"
   ]
  },
  {
   "cell_type": "code",
   "execution_count": 3,
   "metadata": {},
   "outputs": [
    {
     "name": "stdout",
     "output_type": "stream",
     "text": [
      "The sky appears blue because of a phenomenon called Rayleigh scattering, named after the British physicist Lord Rayleigh, who first explained it in the late 19th century.\n",
      "\n",
      "Here's what happens:\n",
      "\n",
      "1. **Sunlight enters Earth's atmosphere**: When sunlight enters our atmosphere, it consists of all colors of the visible spectrum, including red, orange, yellow, green, blue, indigo, and violet.\n",
      "2. **Molecules scatter light**: The tiny molecules in the air (like nitrogen and oxygen) scatter the light in all directions. This scattering effect is more pronounced for shorter wavelengths of light, like blue and violet.\n",
      "3. **Blue light is scattered more**: Because blue light has a shorter wavelength (around 450-495 nanometers), it is scattered even more than other colors by the tiny molecules in the air. This means that blue light is dispersed throughout the atmosphere.\n",
      "4. **Our eyes perceive the blue color**: When we look up at the sky, our eyes receive the scattered blue light from all directions. Our brains then interpret this scattered light as the color blue.\n",
      "\n",
      "So, to summarize: the sky appears blue because of Rayleigh scattering, which scatters shorter wavelengths (like blue and violet) more than longer wavelengths (like red and orange), making blue light dominate our view of the sky.\n",
      "\n",
      "Interestingly, during sunrise and sunset, the sky can take on hues of red, pink, and orange. This is because the sunlight has to travel through a thicker layer of atmosphere to reach us, scattering off particles like dust, water vapor, and pollutants. These longer wavelengths are less scattered, so we see more of them.\n",
      "\n",
      "I hope this explanation helps you understand why the sky is blue!"
     ]
    }
   ],
   "source": [
    "import asyncio\n",
    "from ollama import AsyncClient\n",
    "\n",
    "async def chat():\n",
    "    client = AsyncClient(\n",
    "        host='http://localhost:11434',\n",
    "        headers={'x-some-header': 'some-value'}\n",
    "    )\n",
    "    message = {'role': 'user', 'content': 'Why is the sky blue?'}\n",
    "    async for part in await client.chat(model='llama3.2-vision', messages=[message], stream=True):\n",
    "        print(part['message']['content'], end='', flush=True)\n",
    "\n",
    "# if __name__ == \"__main__\":\n",
    "#     asyncio.run(chat())\n",
    "\n",
    "await chat()"
   ]
  },
  {
   "cell_type": "markdown",
   "metadata": {},
   "source": [
    "### 多模态输入\n",
    "![xxx](/disk1/shuxun/Dataset/NFT1000/0xAzuki/img/0xAzuki_1.png)"
   ]
  },
  {
   "cell_type": "code",
   "execution_count": 5,
   "metadata": {},
   "outputs": [
    {
     "name": "stdout",
     "output_type": "stream",
     "text": [
      "这个图像是漫画风格的女性头像，背景是黄色。她的头发是红色的，并且是半捆式，打了一个小小的马尾。她的眼睛是深棕色的，她的脸上没有表情。但是，她的嘴巴却是轻松开着的，看起来她正在吸烟或吃东西。她的耳朵很大，显得有些奇怪。她穿着一件白色短袖衬衫，衬衫敞开，露出一个白色的内衣。她的上身和头部被背景遮住了。她似乎是日本漫画风格的角色的特征，比如她的眼睛、鼻子和嘴巴的形状，以及她戴的耳环。整体来说，这幅图像是一个简洁但有趣的漫画风格人物设计。"
     ]
    }
   ],
   "source": [
    "import asyncio\n",
    "from ollama import AsyncClient\n",
    "import base64\n",
    "\n",
    "async def chat(prompt: str, image_base64: str = None):\n",
    "    \"\"\"\n",
    "    多模态聊天入口，接收用户的文本提示和可选的图片 base64 编码。\n",
    "    \n",
    "    Args:\n",
    "        prompt (str): 用户的文本输入。\n",
    "        image_base64 (str, optional): 图片的 base64 编码字符串，默认为 None。\n",
    "    \"\"\"\n",
    "    # 创建异步客户端\n",
    "    client = AsyncClient(\n",
    "        host='http://localhost:11434',\n",
    "        headers={'x-some-header': 'some-value'}\n",
    "    )\n",
    "    \n",
    "    # 构造消息\n",
    "    message = {\n",
    "        'role': 'user',\n",
    "        'content': prompt\n",
    "    }\n",
    "    \n",
    "    # 如果提供了图片 base64 编码，则添加到消息中\n",
    "    if image_base64:\n",
    "        message['images'] = [image_base64]\n",
    "    \n",
    "    # 发送流式请求并处理响应\n",
    "    try:\n",
    "        async for part in await client.chat(model='llama3.2-vision', messages=[message], stream=True):\n",
    "            content = part.get('message', {}).get('content', '')\n",
    "            print(content, end='', flush=True)\n",
    "    except Exception as e:\n",
    "        print(f\"\\nError: {e}\")\n",
    "\n",
    "# 示例调用（在 Jupyter Notebook 中）\n",
    "# prompt = \"describe the picture as detail as possible\"\n",
    "prompt = \"给我用中文描述一下这幅图片\"\n",
    "with open(\"/disk1/shuxun/Dataset/NFT1000/0xAzuki/img/0xAzuki_1.png\", \"rb\") as image_file:  # 替换为你的图像路径\n",
    "    image_base64 = base64.b64encode(image_file.read()).decode(\"utf-8\")\n",
    "\n",
    "await chat(prompt, image_base64)"
   ]
  },
  {
   "cell_type": "markdown",
   "metadata": {},
   "source": [
    "### 多轮对话"
   ]
  },
  {
   "cell_type": "code",
   "execution_count": 6,
   "metadata": {},
   "outputs": [
    {
     "name": "stdout",
     "output_type": "stream",
     "text": [
      "Assistant: 您好！有什么可以帮助您的吗？\n",
      "Assistant: 北京！中国的政治和文化中心。天安门、故宫、颐和园这些景点一定是你去过的地方了吧？又或者你正在享受美食，品尝著北京的小吃，如饺子、烤鸭等？有何打算呢？\n",
      "Assistant: 你刚才说了：你现在在北京！\n",
      "Goodbye!\n"
     ]
    }
   ],
   "source": [
    "import asyncio\n",
    "from ollama import AsyncClient\n",
    "\n",
    "async def chat_with_history():\n",
    "    \"\"\"\n",
    "    支持多轮对话的聊天入口，维护对话历史并支持多模态输入。\n",
    "    \"\"\"\n",
    "    # 创建异步客户端\n",
    "    client = AsyncClient(\n",
    "        host='http://localhost:11434',\n",
    "        headers={'x-some-header': 'some-value'}\n",
    "    )\n",
    "    \n",
    "    # 初始化对话历史\n",
    "    history = []\n",
    "    \n",
    "    while True:\n",
    "        # 获取用户输入\n",
    "        prompt = input(\"You: \")\n",
    "        if prompt.lower() in ['exit', 'quit']:  # 输入 exit 或 quit 退出\n",
    "            print(\"Goodbye!\")\n",
    "            break\n",
    "        \n",
    "        # （可选）获取图片 base64 编码\n",
    "        image_base64 = None\n",
    "        use_image = input(\"Do you want to include an image? (yes/no): \").lower()\n",
    "        if use_image == 'yes':\n",
    "            image_path = input(\"Enter image path: \")\n",
    "            try:\n",
    "                with open(image_path, \"rb\") as image_file:\n",
    "                    image_base64 = base64.b64encode(image_file.read()).decode(\"utf-8\")\n",
    "            except FileNotFoundError:\n",
    "                print(\"Error: Image file not found, proceeding without image\")\n",
    "        \n",
    "        # 构造当前消息\n",
    "        current_message = {\n",
    "            'role': 'user',\n",
    "            'content': prompt\n",
    "        }\n",
    "        if image_base64:\n",
    "            current_message['images'] = [image_base64]\n",
    "        \n",
    "        # 将当前消息添加到历史\n",
    "        history.append(current_message)\n",
    "        \n",
    "        # 发送流式请求，包含完整历史\n",
    "        print(\"Assistant: \", end='', flush=True)\n",
    "        try:\n",
    "            async for part in await client.chat(model='llama3.2-vision', messages=history, stream=True):\n",
    "                content = part.get('message', {}).get('content', '')\n",
    "                print(content, end='', flush=True)\n",
    "            \n",
    "            # 将模型响应添加到历史\n",
    "            assistant_message = {\n",
    "                'role': 'assistant',\n",
    "                'content': content\n",
    "            }\n",
    "            history.append(assistant_message)\n",
    "            print()  # 换行\n",
    "        except Exception as e:\n",
    "            print(f\"\\nError: {e}\")\n",
    "            break\n",
    "\n",
    "# 在 Jupyter Notebook 中运行\n",
    "await chat_with_history()"
   ]
  }
 ],
 "metadata": {
  "kernelspec": {
   "display_name": "meme",
   "language": "python",
   "name": "python3"
  },
  "language_info": {
   "codemirror_mode": {
    "name": "ipython",
    "version": 3
   },
   "file_extension": ".py",
   "mimetype": "text/x-python",
   "name": "python",
   "nbconvert_exporter": "python",
   "pygments_lexer": "ipython3",
   "version": "3.12.9"
  }
 },
 "nbformat": 4,
 "nbformat_minor": 2
}
